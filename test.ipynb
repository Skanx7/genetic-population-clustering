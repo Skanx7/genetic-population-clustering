{
 "cells": [
  {
   "cell_type": "code",
   "execution_count": 20,
   "metadata": {},
   "outputs": [],
   "source": [
    "import pandas as pd\n",
    "import allel\n",
    "import logging\n",
    "import coloredlogs\n",
    "\n",
    "# Set up logging to display in the notebook with colors\n",
    "logger = logging.getLogger()\n",
    "logger.setLevel(logging.DEBUG)\n",
    "\n",
    "# Create a handler to output logs to the notebook\n",
    "handler = logging.StreamHandler()\n",
    "handler.setLevel(logging.DEBUG)\n",
    "formatter = logging.Formatter('%(asctime)s - %(levelname)s - %(message)s')\n",
    "handler.setFormatter(formatter)\n",
    "logger.addHandler(handler)\n",
    "\n",
    "# Set up coloredlogs\n",
    "coloredlogs.install(level='DEBUG', logger=logger, fmt='%(asctime)s - %(levelname)s - %(message)s')"
   ]
  },
  {
   "cell_type": "code",
   "execution_count": 53,
   "metadata": {},
   "outputs": [],
   "source": [
    "SOCIAL_FOLDER = 'data/Social'\n",
    "\n",
    "parkinson = pd.read_csv(f\"{SOCIAL_FOLDER}/parkinson.tsv\", sep='\\t')\n",
    "obesity = pd.read_csv(f\"{SOCIAL_FOLDER}/obesity.tsv\", sep='\\t')\n",
    "dataframes = {\n",
    "    'parkinson': parkinson,\n",
    "    'obesity':  obesity\n",
    "}\n",
    "\n",
    "def _preprocess(df : pd.DataFrame):\n",
    "\n",
    "    split_riskAllele = df['riskAllele'].str.split('-', expand=True)\n",
    "    df['SNP'] = split_riskAllele[0]\n",
    "    df['ALT'] = split_riskAllele[1]\n",
    "    split_locations = df['locations'].str.split(':', expand=True)\n",
    "    df['CHROM'] = split_locations[0]\n",
    "    df['POS'] = split_locations[1]\n",
    "    df.drop_duplicates(subset=['riskAllele'], inplace=True)\n",
    "    df.drop(columns=['riskAllele', 'pubmedId', 'author', 'bg', 'accessionId'], inplace=True, errors='ignore')\n",
    "\n",
    "for name, df in dataframes.items():\n",
    "    _preprocess(df)"
   ]
  }
 ],
 "metadata": {
  "kernelspec": {
   "display_name": "Python 3",
   "language": "python",
   "name": "python3"
  },
  "language_info": {
   "codemirror_mode": {
    "name": "ipython",
    "version": 3
   },
   "file_extension": ".py",
   "mimetype": "text/x-python",
   "name": "python",
   "nbconvert_exporter": "python",
   "pygments_lexer": "ipython3",
   "version": "3.10.12"
  }
 },
 "nbformat": 4,
 "nbformat_minor": 2
}
